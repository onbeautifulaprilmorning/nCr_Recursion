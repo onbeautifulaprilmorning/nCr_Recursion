{
  "nbformat": 4,
  "nbformat_minor": 0,
  "metadata": {
    "colab": {
      "name": "nCr Recursion.ipynb",
      "version": "0.3.2",
      "provenance": [],
      "collapsed_sections": []
    },
    "kernelspec": {
      "name": "python3",
      "display_name": "Python 3"
    }
  },
  "cells": [
    {
      "metadata": {
        "id": "5vBk0dT9bzY8",
        "colab_type": "code",
        "colab": {
          "base_uri": "https://localhost:8080/",
          "height": 34
        },
        "outputId": "a63487d7-67d1-4fc5-e4af-e7ef7a9c426b"
      },
      "cell_type": "code",
      "source": [
        "class binomial:  \n",
        "  def fac(self, n, r):\n",
        "    self.n = n\n",
        "    self.r = r\n",
        "    if self.n >= self.r:\n",
        "      if self.n == 1:\n",
        "        return 1\n",
        "      if self.r == 1:\n",
        "        return self.n\n",
        "      elif self.r > 1:\n",
        "        return self.n * self.fac(self.n - 1, self.r - 1) / self.r\n",
        "    else:\n",
        "        return 0\n",
        "n = 5\n",
        "r = 2\n",
        "test = binomial()\n",
        "test.fac(n,r)\n",
        "      "
      ],
      "execution_count": 11,
      "outputs": [
        {
          "output_type": "execute_result",
          "data": {
            "text/plain": [
              "20.0"
            ]
          },
          "metadata": {
            "tags": []
          },
          "execution_count": 11
        }
      ]
    },
    {
      "metadata": {
        "id": "CEQtOdsdcqGf",
        "colab_type": "code",
        "colab": {}
      },
      "cell_type": "code",
      "source": [
        ""
      ],
      "execution_count": 0,
      "outputs": []
    }
  ]
}